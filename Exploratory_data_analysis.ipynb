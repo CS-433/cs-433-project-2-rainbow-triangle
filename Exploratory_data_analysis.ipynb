{
 "cells": [
  {
   "cell_type": "markdown",
   "metadata": {},
   "source": [
    "# Exploritory data analasys"
   ]
  },
  {
   "cell_type": "code",
   "execution_count": 1,
   "metadata": {},
   "outputs": [],
   "source": [
    "import numpy as np\n",
    "import pandas as pd\n",
    "\n",
    "from constants import *"
   ]
  },
  {
   "cell_type": "code",
   "execution_count": 2,
   "metadata": {},
   "outputs": [],
   "source": [
    "def remove_tags(df):\n",
    "  print('Removing tags...')\n",
    "  df['text'] = df['text'].str.replace('<[\\w]*>', '')"
   ]
  },
  {
   "cell_type": "code",
   "execution_count": 3,
   "metadata": {},
   "outputs": [],
   "source": [
    "def read_data(list_, submission=False):\n",
    "  if not submission:\n",
    "    if len(list_) == 2:\n",
    "      for i, file_name in enumerate(list_):\n",
    "        with open(file_name) as f:\n",
    "          content = f.read().splitlines()\n",
    "        df = pd.DataFrame(columns=['text', 'label'],\n",
    "                          data={'text': content,\n",
    "                                'label': np.ones(len(content)) * i})\n",
    "  else:\n",
    "    if len(list_) == 1:\n",
    "      with open(list_[0]) as f:\n",
    "        content = f.read().splitlines()\n",
    "        ids = [line.split(',')[0] for line in content]\n",
    "        texts = [','.join(line.split(',')[1:]) for line in content]\n",
    "        df = pd.DataFrame(columns=['ids', 'text'],\n",
    "                          data={'ids': ids, 'text': texts})\n",
    "  return df\n",
    "\n",
    "\n",
    "train = read_data([TRAIN_DATA_NEGATIVE_FULL, TRAIN_DATA_POSITIVE_FULL], submission=False)\n",
    "test = read_data([TEST_DATA], submission=True)"
   ]
  },
  {
   "cell_type": "code",
   "execution_count": 4,
   "metadata": {},
   "outputs": [
    {
     "data": {
      "text/html": [
       "<div>\n",
       "<style scoped>\n",
       "    .dataframe tbody tr th:only-of-type {\n",
       "        vertical-align: middle;\n",
       "    }\n",
       "\n",
       "    .dataframe tbody tr th {\n",
       "        vertical-align: top;\n",
       "    }\n",
       "\n",
       "    .dataframe thead th {\n",
       "        text-align: right;\n",
       "    }\n",
       "</style>\n",
       "<table border=\"1\" class=\"dataframe\">\n",
       "  <thead>\n",
       "    <tr style=\"text-align: right;\">\n",
       "      <th></th>\n",
       "      <th>text</th>\n",
       "      <th>label</th>\n",
       "    </tr>\n",
       "  </thead>\n",
       "  <tbody>\n",
       "    <tr>\n",
       "      <th>0</th>\n",
       "      <td>&lt;user&gt; i dunno justin read my mention or not ....</td>\n",
       "      <td>1.0</td>\n",
       "    </tr>\n",
       "    <tr>\n",
       "      <th>1</th>\n",
       "      <td>because your logic is so dumb , i won't even c...</td>\n",
       "      <td>1.0</td>\n",
       "    </tr>\n",
       "    <tr>\n",
       "      <th>2</th>\n",
       "      <td>\" &lt;user&gt; just put casper in a box ! \" looved t...</td>\n",
       "      <td>1.0</td>\n",
       "    </tr>\n",
       "    <tr>\n",
       "      <th>3</th>\n",
       "      <td>&lt;user&gt; &lt;user&gt; thanks sir &gt; &gt; don't trip lil ma...</td>\n",
       "      <td>1.0</td>\n",
       "    </tr>\n",
       "    <tr>\n",
       "      <th>4</th>\n",
       "      <td>visiting my brother tmr is the bestest birthda...</td>\n",
       "      <td>1.0</td>\n",
       "    </tr>\n",
       "  </tbody>\n",
       "</table>\n",
       "</div>"
      ],
      "text/plain": [
       "                                                text  label\n",
       "0  <user> i dunno justin read my mention or not ....    1.0\n",
       "1  because your logic is so dumb , i won't even c...    1.0\n",
       "2  \" <user> just put casper in a box ! \" looved t...    1.0\n",
       "3  <user> <user> thanks sir > > don't trip lil ma...    1.0\n",
       "4  visiting my brother tmr is the bestest birthda...    1.0"
      ]
     },
     "execution_count": 4,
     "metadata": {},
     "output_type": "execute_result"
    }
   ],
   "source": [
    "train.head(5)"
   ]
  },
  {
   "cell_type": "code",
   "execution_count": 5,
   "metadata": {},
   "outputs": [
    {
     "data": {
      "text/html": [
       "<div>\n",
       "<style scoped>\n",
       "    .dataframe tbody tr th:only-of-type {\n",
       "        vertical-align: middle;\n",
       "    }\n",
       "\n",
       "    .dataframe tbody tr th {\n",
       "        vertical-align: top;\n",
       "    }\n",
       "\n",
       "    .dataframe thead th {\n",
       "        text-align: right;\n",
       "    }\n",
       "</style>\n",
       "<table border=\"1\" class=\"dataframe\">\n",
       "  <thead>\n",
       "    <tr style=\"text-align: right;\">\n",
       "      <th></th>\n",
       "      <th>ids</th>\n",
       "      <th>text</th>\n",
       "    </tr>\n",
       "  </thead>\n",
       "  <tbody>\n",
       "    <tr>\n",
       "      <th>0</th>\n",
       "      <td>1</td>\n",
       "      <td>sea doo pro sea scooter ( sports with the port...</td>\n",
       "    </tr>\n",
       "    <tr>\n",
       "      <th>1</th>\n",
       "      <td>2</td>\n",
       "      <td>&lt;user&gt; shucks well i work all week so now i ca...</td>\n",
       "    </tr>\n",
       "    <tr>\n",
       "      <th>2</th>\n",
       "      <td>3</td>\n",
       "      <td>i cant stay away from bug thats my baby</td>\n",
       "    </tr>\n",
       "    <tr>\n",
       "      <th>3</th>\n",
       "      <td>4</td>\n",
       "      <td>&lt;user&gt; no ma'am ! ! ! lol im perfectly fine an...</td>\n",
       "    </tr>\n",
       "    <tr>\n",
       "      <th>4</th>\n",
       "      <td>5</td>\n",
       "      <td>whenever i fall asleep watching the tv , i alw...</td>\n",
       "    </tr>\n",
       "  </tbody>\n",
       "</table>\n",
       "</div>"
      ],
      "text/plain": [
       "  ids                                               text\n",
       "0   1  sea doo pro sea scooter ( sports with the port...\n",
       "1   2  <user> shucks well i work all week so now i ca...\n",
       "2   3            i cant stay away from bug thats my baby\n",
       "3   4  <user> no ma'am ! ! ! lol im perfectly fine an...\n",
       "4   5  whenever i fall asleep watching the tv , i alw..."
      ]
     },
     "execution_count": 5,
     "metadata": {},
     "output_type": "execute_result"
    }
   ],
   "source": [
    "test.head(5)"
   ]
  },
  {
   "cell_type": "code",
   "execution_count": 6,
   "metadata": {},
   "outputs": [
    {
     "name": "stdout",
     "output_type": "stream",
     "text": [
      "Removing tags...\n",
      "Removing tags...\n"
     ]
    }
   ],
   "source": [
    "remove_tags(train)\n",
    "remove_tags(test)"
   ]
  },
  {
   "cell_type": "code",
   "execution_count": 7,
   "metadata": {},
   "outputs": [
    {
     "data": {
      "text/html": [
       "<div>\n",
       "<style scoped>\n",
       "    .dataframe tbody tr th:only-of-type {\n",
       "        vertical-align: middle;\n",
       "    }\n",
       "\n",
       "    .dataframe tbody tr th {\n",
       "        vertical-align: top;\n",
       "    }\n",
       "\n",
       "    .dataframe thead th {\n",
       "        text-align: right;\n",
       "    }\n",
       "</style>\n",
       "<table border=\"1\" class=\"dataframe\">\n",
       "  <thead>\n",
       "    <tr style=\"text-align: right;\">\n",
       "      <th></th>\n",
       "      <th>text</th>\n",
       "      <th>label</th>\n",
       "    </tr>\n",
       "  </thead>\n",
       "  <tbody>\n",
       "    <tr>\n",
       "      <th>0</th>\n",
       "      <td>i dunno justin read my mention or not . only ...</td>\n",
       "      <td>1.0</td>\n",
       "    </tr>\n",
       "    <tr>\n",
       "      <th>1</th>\n",
       "      <td>because your logic is so dumb , i won't even c...</td>\n",
       "      <td>1.0</td>\n",
       "    </tr>\n",
       "    <tr>\n",
       "      <th>2</th>\n",
       "      <td>\"  just put casper in a box ! \" looved the bat...</td>\n",
       "      <td>1.0</td>\n",
       "    </tr>\n",
       "    <tr>\n",
       "      <th>3</th>\n",
       "      <td>thanks sir &gt; &gt; don't trip lil mama ... just ...</td>\n",
       "      <td>1.0</td>\n",
       "    </tr>\n",
       "    <tr>\n",
       "      <th>4</th>\n",
       "      <td>visiting my brother tmr is the bestest birthda...</td>\n",
       "      <td>1.0</td>\n",
       "    </tr>\n",
       "  </tbody>\n",
       "</table>\n",
       "</div>"
      ],
      "text/plain": [
       "                                                text  label\n",
       "0   i dunno justin read my mention or not . only ...    1.0\n",
       "1  because your logic is so dumb , i won't even c...    1.0\n",
       "2  \"  just put casper in a box ! \" looved the bat...    1.0\n",
       "3    thanks sir > > don't trip lil mama ... just ...    1.0\n",
       "4  visiting my brother tmr is the bestest birthda...    1.0"
      ]
     },
     "execution_count": 7,
     "metadata": {},
     "output_type": "execute_result"
    }
   ],
   "source": [
    "train.head(5)"
   ]
  },
  {
   "cell_type": "markdown",
   "metadata": {},
   "source": [
    "## 1. Find all emoticons used"
   ]
  },
  {
   "cell_type": "code",
   "execution_count": 8,
   "metadata": {},
   "outputs": [],
   "source": [
    "with open('utility/emoticons.txt') as f:\n",
    "  content = f.read().splitlines()\n",
    "  # Ignore first lines of comments and the blank line\n",
    "  content = content[6:]\n",
    "  EMOTICONS = content\n",
    "  \n",
    "\n",
    "def search_emoticon(text, emoticons=EMOTICONS):\n",
    "  e_list = []\n",
    "  for e in emoticons:\n",
    "    if e in text:\n",
    "      e_list.append(e)\n",
    "  return e_list\n",
    "\n",
    "  \n",
    "def find_emoticons(df, emoticons=EMOTICONS):\n",
    "  df['emoticons'] = df['text_wo_spaces'].apply(\n",
    "      lambda text: search_emoticon(text))"
   ]
  },
  {
   "cell_type": "code",
   "execution_count": 9,
   "metadata": {},
   "outputs": [],
   "source": [
    "train['text_wo_spaces'] = train['text'].str.replace(' ', '')\n",
    "test['text_wo_spaces'] = test['text'].str.replace(' ', '')\n",
    "find_emoticons(train)\n",
    "find_emoticons(test)"
   ]
  },
  {
   "cell_type": "code",
   "execution_count": 10,
   "metadata": {},
   "outputs": [],
   "source": [
    "all_train_emoticons = [x for y in train['emoticons'].tolist() for x in y]\n",
    "all_test_emoticons = [x for y in test['emoticons'].tolist() for x in y]\n",
    "all_emoticons = list(set(all_train_emoticons + all_test_emoticons))"
   ]
  },
  {
   "cell_type": "code",
   "execution_count": 11,
   "metadata": {},
   "outputs": [
    {
     "data": {
      "text/plain": [
       "122"
      ]
     },
     "execution_count": 11,
     "metadata": {},
     "output_type": "execute_result"
    }
   ],
   "source": [
    "len(all_emoticons)"
   ]
  },
  {
   "cell_type": "code",
   "execution_count": 12,
   "metadata": {},
   "outputs": [
    {
     "data": {
      "text/plain": [
       "['(__)',\n",
       " ':#',\n",
       " ';-)',\n",
       " '>:)',\n",
       " ';;',\n",
       " ';)',\n",
       " ':c',\n",
       " ':-c',\n",
       " ':-*',\n",
       " '^_^',\n",
       " 'v.v',\n",
       " '=\\\\',\n",
       " ':^)',\n",
       " '=]',\n",
       " \"('_')\",\n",
       " ':o)',\n",
       " '(._.)',\n",
       " ':>',\n",
       " ':[',\n",
       " ':-/',\n",
       " '>:/',\n",
       " 'm(__)m',\n",
       " 'uwu',\n",
       " '%)',\n",
       " '(^^)v',\n",
       " '<3',\n",
       " '=/',\n",
       " ':]',\n",
       " '(:',\n",
       " '=(',\n",
       " \":'(\",\n",
       " ':{',\n",
       " ':\\\\',\n",
       " ':-&',\n",
       " ':-o',\n",
       " '\\\\o/',\n",
       " ';3',\n",
       " ':-3',\n",
       " 'o-o',\n",
       " ':c)',\n",
       " ':-)',\n",
       " '(^o^)',\n",
       " '(~_~)',\n",
       " '(^^)/',\n",
       " ';-;',\n",
       " ':*',\n",
       " '0:3',\n",
       " '=3',\n",
       " '<\\\\3',\n",
       " ':-.',\n",
       " ':-}',\n",
       " 'xp',\n",
       " ':-0',\n",
       " \":'-)\",\n",
       " ';^)',\n",
       " '>^_^<',\n",
       " '^5',\n",
       " '(o.o)',\n",
       " ';n;',\n",
       " '(+_+)',\n",
       " ':-]',\n",
       " \":')\",\n",
       " '8-)',\n",
       " '</3',\n",
       " '(-.-)',\n",
       " ':))',\n",
       " '*-)',\n",
       " '(^^)',\n",
       " ':b',\n",
       " '(^_^)/',\n",
       " ';(',\n",
       " '>:[',\n",
       " '(*_*)',\n",
       " '<+',\n",
       " '0:)',\n",
       " '8-0',\n",
       " 'o_o',\n",
       " '>:\\\\',\n",
       " \"(';')\",\n",
       " ':}',\n",
       " '(^.^)',\n",
       " ':&',\n",
       " '>.<',\n",
       " ':o',\n",
       " ':<',\n",
       " ';]',\n",
       " '(^_^)',\n",
       " '(#^.^#)',\n",
       " ':(',\n",
       " '=)',\n",
       " '}:)',\n",
       " ':-|',\n",
       " '^^;',\n",
       " '><>',\n",
       " ';_;',\n",
       " ':@',\n",
       " ':-p',\n",
       " ':-<',\n",
       " '(-_-)',\n",
       " ':-b',\n",
       " 'o/\\\\o',\n",
       " '(^_-)',\n",
       " '^_^;',\n",
       " ':)',\n",
       " '))',\n",
       " ':|',\n",
       " '=p',\n",
       " ':/',\n",
       " '3:)',\n",
       " 'd:',\n",
       " '(..)',\n",
       " '>:3',\n",
       " ':$',\n",
       " ':3',\n",
       " '*)',\n",
       " ':-[',\n",
       " '8)',\n",
       " 'x-p',\n",
       " \":'-(\",\n",
       " ':p',\n",
       " ':->',\n",
       " 'o_0']"
      ]
     },
     "execution_count": 12,
     "metadata": {},
     "output_type": "execute_result"
    }
   ],
   "source": [
    "all_emoticons"
   ]
  },
  {
   "cell_type": "code",
   "execution_count": null,
   "metadata": {},
   "outputs": [],
   "source": []
  }
 ],
 "metadata": {
  "kernelspec": {
   "display_name": "Python 3",
   "language": "python",
   "name": "python3"
  },
  "language_info": {
   "codemirror_mode": {
    "name": "ipython",
    "version": 3
   },
   "file_extension": ".py",
   "mimetype": "text/x-python",
   "name": "python",
   "nbconvert_exporter": "python",
   "pygments_lexer": "ipython3",
   "version": "3.8.5"
  }
 },
 "nbformat": 4,
 "nbformat_minor": 4
}
